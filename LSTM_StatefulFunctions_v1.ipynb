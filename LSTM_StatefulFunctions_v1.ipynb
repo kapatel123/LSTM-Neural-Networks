{
 "cells": [
  {
   "cell_type": "markdown",
   "metadata": {},
   "source": [
    "### Use !pip install to download and install necessary packages."
   ]
  },
  {
   "cell_type": "code",
   "execution_count": 179,
   "metadata": {},
   "outputs": [
    {
     "data": {
      "text/html": [
       "<script>requirejs.config({paths: { 'plotly': ['https://cdn.plot.ly/plotly-latest.min']},});if(!window.Plotly) {{require(['plotly'],function(plotly) {window.Plotly=plotly;});}}</script>"
      ],
      "text/vnd.plotly.v1+html": [
       "<script>requirejs.config({paths: { 'plotly': ['https://cdn.plot.ly/plotly-latest.min']},});if(!window.Plotly) {{require(['plotly'],function(plotly) {window.Plotly=plotly;});}}</script>"
      ]
     },
     "metadata": {},
     "output_type": "display_data"
    }
   ],
   "source": [
    "# EXAMPLE -> !pip install keras\n",
    "# Necessary Packages include -> pandas, plotly, numpy, seaborn, math, keras, sklearn, matplotlib\n",
    "import numpy as np\n",
    "import pandas as pd\n",
    "import plotly.offline as py \n",
    "import plotly.graph_objs as go\n",
    "import seaborn as sns\n",
    "import math\n",
    "import keras\n",
    "import tensorflow\n",
    "\n",
    "from numpy.random import seed\n",
    "from tensorflow import set_random_seed\n",
    "seed = np.random.seed(432)\n",
    "set_random_seed(seed)\n",
    "\n",
    "from pandas import DataFrame\n",
    "from pandas import read_csv\n",
    "from numpy import concatenate \n",
    "from numpy import newaxis\n",
    "from math import sqrt \n",
    "from matplotlib import pyplot \n",
    "from datetime import datetime\n",
    "from sklearn.preprocessing import MinMaxScaler\n",
    "from sklearn.preprocessing import LabelEncoder\n",
    "from sklearn.metrics import mean_squared_error\n",
    "\n",
    "from keras.models import Sequential \n",
    "from keras.layers import Dense\n",
    "from keras.layers import LSTM\n",
    "from keras.layers import Dropout\n",
    "from keras.layers import Flatten\n",
    "from keras.utils import plot_model\n",
    "\n",
    "py.init_notebook_mode(connected = True)\n",
    "%matplotlib inline"
   ]
  },
  {
   "cell_type": "markdown",
   "metadata": {},
   "source": [
    "#### Read in Data, Check NAs, Replace"
   ]
  },
  {
   "cell_type": "code",
   "execution_count": 181,
   "metadata": {
    "collapsed": true,
    "scrolled": true
   },
   "outputs": [],
   "source": [
    "df = pd.read_csv('FAR_test2.txt', sep = '|')\n",
    "df['REVENUE'].replace(0, np.nan, inplace = True)\n",
    "df['REVENUE'].fillna(method = 'ffill', inplace = True)\n",
    "\n",
    "uniquecust = list(df.CUSTOMER_CODE.unique())\n",
    "#Turn NAs to 0 \n",
    "df.isnull().values.sum()\n",
    "df = df.replace(np.nan, 0, regex=True)"
   ]
  },
  {
   "cell_type": "markdown",
   "metadata": {},
   "source": [
    "#### Parameters"
   ]
  },
  {
   "cell_type": "code",
   "execution_count": 257,
   "metadata": {
    "collapsed": true
   },
   "outputs": [],
   "source": [
    "# Initial Parameters #\n",
    "train_size = 157\n",
    "layers = [100,55,50,1]\n",
    "drop_out = [0.2,0.3]\n",
    "epochs = 10\n",
    "batch_size = 1\n",
    "look_back = 4\n",
    "\n",
    "fore = pd.array.empty\n",
    "predicted = []"
   ]
  },
  {
   "cell_type": "code",
   "execution_count": 262,
   "metadata": {
    "collapsed": true
   },
   "outputs": [
    {
     "name": "stdout",
     "output_type": "stream",
     "text": [
      "469\n",
      "Epoch 1 / 10\n",
      "Epoch 1/1\n",
      "153/153 [==============================] - 2s 16ms/step - loss: 0.0744\n",
      "Epoch 2 / 10\n",
      "Epoch 1/1\n",
      "153/153 [==============================] - 2s 11ms/step - loss: 0.0611\n",
      "Epoch 3 / 10\n",
      "Epoch 1/1\n",
      "153/153 [==============================] - 2s 13ms/step - loss: 0.0720\n",
      "Epoch 4 / 10\n",
      "Epoch 1/1\n",
      "153/153 [==============================] - 2s 12ms/step - loss: 0.0716\n",
      "Epoch 5 / 10\n",
      "Epoch 1/1\n",
      "153/153 [==============================] - 2s 12ms/step - loss: 0.0587\n",
      "Epoch 6 / 10\n",
      "Epoch 1/1\n",
      "153/153 [==============================] - 2s 11ms/step - loss: 0.0497\n",
      "Epoch 7 / 10\n",
      "Epoch 1/1\n",
      "153/153 [==============================] - 2s 12ms/step - loss: 0.0600\n",
      "Epoch 8 / 10\n",
      "Epoch 1/1\n",
      "153/153 [==============================] - 2s 12ms/step - loss: 0.0559\n",
      "Epoch 9 / 10\n",
      "Epoch 1/1\n",
      "153/153 [==============================] - 2s 11ms/step - loss: 0.0612\n",
      "Epoch 10 / 10\n",
      "Epoch 1/1\n",
      "153/153 [==============================] - 2s 12ms/step - loss: 0.0662\n",
      "Train RMSE: 0.251\n"
     ]
    },
    {
     "ename": "AttributeError",
     "evalue": "'property' object has no attribute 'append'",
     "output_type": "error",
     "traceback": [
      "\u001b[1;31m---------------------------------------------------------------------------\u001b[0m",
      "\u001b[1;31mAttributeError\u001b[0m                            Traceback (most recent call last)",
      "\u001b[1;32m<ipython-input-262-7dd02f6f4d28>\u001b[0m in \u001b[0;36m<module>\u001b[1;34m()\u001b[0m\n\u001b[1;32m----> 1\u001b[1;33m \u001b[0mscaleddf\u001b[0m\u001b[1;33m(\u001b[0m\u001b[0mdf\u001b[0m\u001b[1;33m)\u001b[0m\u001b[1;33m\u001b[0m\u001b[0m\n\u001b[0m",
      "\u001b[1;32m<ipython-input-261-b9f8a65e02e7>\u001b[0m in \u001b[0;36mscaleddf\u001b[1;34m(dataframe)\u001b[0m\n\u001b[0;32m     31\u001b[0m \u001b[1;33m\u001b[0m\u001b[0m\n\u001b[0;32m     32\u001b[0m         \u001b[1;31m#Append Forecasts - 1 Array\u001b[0m\u001b[1;33m\u001b[0m\u001b[1;33m\u001b[0m\u001b[0m\n\u001b[1;32m---> 33\u001b[1;33m         \u001b[0mfore\u001b[0m\u001b[1;33m.\u001b[0m\u001b[0mappend\u001b[0m\u001b[1;33m(\u001b[0m\u001b[0mpredicted\u001b[0m\u001b[1;33m)\u001b[0m\u001b[1;33m\u001b[0m\u001b[0m\n\u001b[0m\u001b[0;32m     34\u001b[0m         \u001b[0mmodel\u001b[0m\u001b[1;33m.\u001b[0m\u001b[0mreset_states\u001b[0m\u001b[1;33m(\u001b[0m\u001b[1;33m)\u001b[0m\u001b[1;33m\u001b[0m\u001b[0m\n\u001b[0;32m     35\u001b[0m     \u001b[1;32mreturn\u001b[0m\u001b[1;33m\u001b[0m\u001b[0m\n",
      "\u001b[1;31mAttributeError\u001b[0m: 'property' object has no attribute 'append'"
     ]
    }
   ],
   "source": [
    "scaleddf(df)"
   ]
  },
  {
   "cell_type": "code",
   "execution_count": 261,
   "metadata": {
    "collapsed": true
   },
   "outputs": [],
   "source": [
    "def scaleddf(dataframe):\n",
    "    for custcode in uniquecust:\n",
    "        # Normalize\n",
    "        values = dataframe['REVENUE'].values.reshape(-1,1)\n",
    "        values = values.astype('float32')\n",
    "        scaler = MinMaxScaler(feature_range=(0,1))\n",
    "        scaled = scaler.fit_transform(values)\n",
    "        \n",
    "        # Create Tensor\n",
    "        train_size = int(len(scaled) * 1)\n",
    "        train = scaled[0:train_size, :]\n",
    "        trainX, trainY = create_dataset(train, look_back)\n",
    "        trainX = np.reshape(trainX, (trainX.shape[0], trainX.shape[1], 1))\n",
    "        #print(trainX.shape, trainY.shape)\n",
    "        \n",
    "        # Create/Run model\n",
    "        model_stateful = create_model(stateful = True)\n",
    "        runmodel(epochs, batch_size)\n",
    "        \n",
    "        #Predict on Train Set \n",
    "        trainPredict = model_stateful.predict(trainX, batch_size = batch_size)\n",
    "        rmse_train = sqrt(mean_squared_error(trainPredict, trainY))\n",
    "        print('Train RMSE: %.3f' % rmse_train)\n",
    "\n",
    "        trainPredict2 = scaler.inverse_transform(trainPredict)\n",
    "        trainY2 = scaler.inverse_transform([trainY])\n",
    "        trainYInverse = np.reshape(trainY2, (len(trainPredict), 1))\n",
    "        \n",
    "        #Produce Forecasts\n",
    "        forecastdf(trainX)\n",
    "        \n",
    "        #Append Forecasts - 1 Array\n",
    "        fore.append(predicted)\n",
    "        model.reset_states()\n",
    "    return "
   ]
  },
  {
   "cell_type": "markdown",
   "metadata": {},
   "source": [
    "## FUNCTIONS\n"
   ]
  },
  {
   "cell_type": "code",
   "execution_count": 192,
   "metadata": {
    "collapsed": true
   },
   "outputs": [],
   "source": [
    "def create_dataset(dataset, look_back):\n",
    "    dataX, dataY = [], []\n",
    "    for i in range(len(dataset) - look_back - 1):\n",
    "        a = dataset[i:(i+look_back), 0]\n",
    "        dataX.append(a)\n",
    "        dataY.append(dataset[i+look_back, 0])\n",
    "    print(len(dataY))\n",
    "    return np.array(dataX), np.array(dataY)"
   ]
  },
  {
   "cell_type": "code",
   "execution_count": 199,
   "metadata": {},
   "outputs": [
    {
     "name": "stdout",
     "output_type": "stream",
     "text": [
      "Creating Stateful Model..\n"
     ]
    }
   ],
   "source": [
    "def create_model(stateful):\n",
    "    model = Sequential()\n",
    "#Cell 1\n",
    "    model.add(LSTM(\n",
    "        units = layers[0],\n",
    "        return_sequences = True,\n",
    "        batch_input_shape = (1, trainX.shape[1], trainX.shape[2]),\n",
    "        stateful = stateful \n",
    "    ))\n",
    "    model.add(Dropout(drop_out[0]))\n",
    "#Cell 2\n",
    "    model.add(LSTM(\n",
    "        units=layers[1], \n",
    "        return_sequences = True,\n",
    "        stateful = stateful\n",
    "    ))        \n",
    "    model.add(Dropout(drop_out[1]))\n",
    "#Cell 3\n",
    "    model.add(LSTM(\n",
    "        units=layers[2],\n",
    "        return_sequences = True,    \n",
    "        stateful = stateful\n",
    "    ))\n",
    "#Output Layer\n",
    "    model.add(Flatten())\n",
    "    model.add(Dense(\n",
    "        units = layers[3],\n",
    "        activation = 'linear'\n",
    "    ))\n",
    "    model.compile(loss = 'mae', optimizer = 'adam')   \n",
    "    return model\n",
    "\n",
    "print('Creating Stateful Model..')"
   ]
  },
  {
   "cell_type": "code",
   "execution_count": 210,
   "metadata": {
    "collapsed": true
   },
   "outputs": [],
   "source": [
    "def runmodel(epochs, batch_size):\n",
    "    for i in range(epochs):\n",
    "        print('Epoch', i + 1, '/', epochs)\n",
    "        model_stateful.fit(trainX,\n",
    "              trainY,\n",
    "              batch_size=batch_size,\n",
    "              epochs=1,\n",
    "              verbose=1,\n",
    "              #validation_data=(testX, testY),\n",
    "              shuffle=False)\n",
    "        model_stateful.reset_states()\n",
    "    return "
   ]
  },
  {
   "cell_type": "code",
   "execution_count": 260,
   "metadata": {
    "collapsed": true
   },
   "outputs": [],
   "source": [
    "def forecastdf(df):\n",
    "    curr_frame = trainX[0]\n",
    "    for i in range(len(df)):                                                     \n",
    "        predicted.append(model_stateful.predict(curr_frame[newaxis,:,:], batch_size = batch_size)[0,0]) \n",
    "        curr_frame = curr_frame[1:]                                                  \n",
    "        curr_frame = np.insert(curr_frame, len(df[0])-1, predicted[-1], axis = 0)\n",
    "        forecastPredict = scaler.inverse_transform([predicted])\n",
    "        forecasts = np.reshape(forecastPredict, (len(predicted), 1))\n",
    "        forecasts2 = forecasts[0:52] \n",
    "    return"
   ]
  }
 ],
 "metadata": {
  "kernelspec": {
   "display_name": "Python 3",
   "language": "python",
   "name": "python3"
  },
  "language_info": {
   "codemirror_mode": {
    "name": "ipython",
    "version": 3
   },
   "file_extension": ".py",
   "mimetype": "text/x-python",
   "name": "python",
   "nbconvert_exporter": "python",
   "pygments_lexer": "ipython3",
   "version": "3.6.2"
  }
 },
 "nbformat": 4,
 "nbformat_minor": 2
}
